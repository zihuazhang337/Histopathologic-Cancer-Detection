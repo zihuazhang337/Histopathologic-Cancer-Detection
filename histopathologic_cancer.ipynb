{
 "cells": [
  {
   "cell_type": "code",
   "execution_count": 1,
   "id": "1d731e93",
   "metadata": {},
   "outputs": [],
   "source": [
    "import torch\n",
    "import torch.nn as nn\n",
    "from torch.nn import functional as F\n",
    "from torchvision.models import resnet50, resnet18\n",
    "\n",
    "from cutmix.cutmix import CutMix\n",
    "from cutmix.utils import CutMixCrossEntropyLoss\n",
    "from d2l import torch as d2l\n",
    "\n",
    "import pandas as pd\n",
    "import numpy as np\n",
    "from torch.utils.data import Dataset, DataLoader, TensorDataset\n",
    "from torchvision import transforms\n",
    "from torch.optim.lr_scheduler import CosineAnnealingLR\n",
    "from sklearn.model_selection import KFold\n",
    "from PIL import Image\n",
    "import os\n",
    "import matplotlib.pyplot as plt\n",
    "import torchvision.models as models\n",
    "from tqdm import tqdm"
   ]
  },
  {
   "cell_type": "markdown",
   "id": "9778115d",
   "metadata": {},
   "source": [
    "## Cancer detection\n",
    "This project Will use histopathologic cancer dataset from Kaggle, and detect which image has the cancer\n",
    "\n",
    "Let's get some idea of our data. First by looking at the image and label."
   ]
  },
  {
   "cell_type": "code",
   "execution_count": 18,
   "id": "24182ede",
   "metadata": {},
   "outputs": [
    {
     "data": {
      "text/html": [
       "<div>\n",
       "<style scoped>\n",
       "    .dataframe tbody tr th:only-of-type {\n",
       "        vertical-align: middle;\n",
       "    }\n",
       "\n",
       "    .dataframe tbody tr th {\n",
       "        vertical-align: top;\n",
       "    }\n",
       "\n",
       "    .dataframe thead th {\n",
       "        text-align: right;\n",
       "    }\n",
       "</style>\n",
       "<table border=\"1\" class=\"dataframe\">\n",
       "  <thead>\n",
       "    <tr style=\"text-align: right;\">\n",
       "      <th></th>\n",
       "      <th>id</th>\n",
       "      <th>label</th>\n",
       "    </tr>\n",
       "  </thead>\n",
       "  <tbody>\n",
       "    <tr>\n",
       "      <th>0</th>\n",
       "      <td>f38a6374c348f90b587e046aac6079959adf3835</td>\n",
       "      <td>0</td>\n",
       "    </tr>\n",
       "    <tr>\n",
       "      <th>1</th>\n",
       "      <td>c18f2d887b7ae4f6742ee445113fa1aef383ed77</td>\n",
       "      <td>1</td>\n",
       "    </tr>\n",
       "    <tr>\n",
       "      <th>2</th>\n",
       "      <td>755db6279dae599ebb4d39a9123cce439965282d</td>\n",
       "      <td>0</td>\n",
       "    </tr>\n",
       "    <tr>\n",
       "      <th>3</th>\n",
       "      <td>bc3f0c64fb968ff4a8bd33af6971ecae77c75e08</td>\n",
       "      <td>0</td>\n",
       "    </tr>\n",
       "    <tr>\n",
       "      <th>4</th>\n",
       "      <td>068aba587a4950175d04c680d38943fd488d6a9d</td>\n",
       "      <td>0</td>\n",
       "    </tr>\n",
       "  </tbody>\n",
       "</table>\n",
       "</div>"
      ],
      "text/plain": [
       "                                         id  label\n",
       "0  f38a6374c348f90b587e046aac6079959adf3835      0\n",
       "1  c18f2d887b7ae4f6742ee445113fa1aef383ed77      1\n",
       "2  755db6279dae599ebb4d39a9123cce439965282d      0\n",
       "3  bc3f0c64fb968ff4a8bd33af6971ecae77c75e08      0\n",
       "4  068aba587a4950175d04c680d38943fd488d6a9d      0"
      ]
     },
     "execution_count": 18,
     "metadata": {},
     "output_type": "execute_result"
    }
   ],
   "source": [
    "train_labels = pd.read_csv('train_labels.csv')\n",
    "train_labels.head(5)"
   ]
  },
  {
   "cell_type": "code",
   "execution_count": 34,
   "id": "76490b2f",
   "metadata": {},
   "outputs": [
    {
     "name": "stdout",
     "output_type": "stream",
     "text": [
      "id       f38a6374c348f90b587e046aac6079959adf3835\n",
      "label                                           0\n",
      "Name: 0, dtype: object\n"
     ]
    },
    {
     "data": {
      "image/png": "[encoded data removed]",
      "text/plain": [
       "<PIL.TiffImagePlugin.TiffImageFile image mode=RGB size=96x96 at 0x24B6E218EE0>"
      ]
     },
     "execution_count": 34,
     "metadata": {},
     "output_type": "execute_result"
    }
   ],
   "source": [
    "image_path = 'train/' + train_labels.loc[0]['id'] + '.tif'\n",
    "print(train_labels.loc[0])\n",
    "Image.open(image_path)\n"
   ]
  },
  {
   "cell_type": "code",
   "execution_count": 3,
   "id": "e0a14535",
   "metadata": {},
   "outputs": [
    {
     "name": "stdout",
     "output_type": "stream",
     "text": [
      "2\n"
     ]
    }
   ],
   "source": [
    "# let's see how many target label we have\n",
    "train_labels = sorted(list(set(train_labels['label'])))\n",
    "n_classes = len(train_labels)\n",
    "print(n_classes)"
   ]
  },
  {
   "cell_type": "markdown",
   "id": "e2f2acc9",
   "metadata": {},
   "source": [
    "#### we can see that we only have two classes, yes or no. So we will use sigmoid activation function instead of SoftMax function."
   ]
  },
  {
   "cell_type": "markdown",
   "id": "262ef661",
   "metadata": {},
   "source": [
    "### Preprocessing image \n",
    "In order to have a consist input, we will preprocessing our image, resize, and normalize the image."
   ]
  },
  {
   "cell_type": "code",
   "execution_count": null,
   "id": "8c711bce",
   "metadata": {},
   "outputs": [],
   "source": [
    "pre_train_transform = transforms.Compose([\n",
    "    transforms.Resize(96),\n",
    "    transforms.CenterCrop(96),    \n",
    "    transforms.ToTensor(),\n",
    "    transforms.Normalize([0.485, 0.456, 0.406],[0.229, 0.224, 0.225])\n",
    "])"
   ]
  },
  {
   "cell_type": "markdown",
   "id": "5a43e808",
   "metadata": {},
   "source": [
    "## dataset class\n",
    "In order to use the neural network, we have to marge the image with the label. So we create the my_dataset class, that will return the image with its label. Also, using this class, we can easily modify our image."
   ]
  },
  {
   "cell_type": "code",
   "execution_count": 4,
   "id": "e94d4808",
   "metadata": {},
   "outputs": [],
   "source": [
    "# It is the preprocessing function, in our case we  only resize the image and do the normalization\n",
    "# we want the do more preprocessing easily by changing the function below\n",
    "\n",
    "\n",
    "#my dataset class\n",
    "class my_dataset(Dataset):\n",
    "    def __init__(self, csv_file, transform = pre_train_transform, prefix = ''):\n",
    "        super(my_dataset, self).__init__()\n",
    "        self.data = pd.read_csv(csv_file)\n",
    "        \n",
    "        self.prefix = prefix\n",
    "        self.img = self.data['id']\n",
    "        self.label = self.data['label']\n",
    "        self.transform = transform\n",
    "        self.length = len(self.label)\n",
    "        \n",
    "    def __len__(self):\n",
    "        return self.length\n",
    "    \n",
    "    def __getitem__(self, idx):\n",
    "        path = self.prefix + self.img[idx] + '.tif'\n",
    "        img = Image.open(path)\n",
    "        img = self.transform(img)\n",
    "        \n",
    "        label = self.label[idx]\n",
    "        number_label = label\n",
    "\n",
    "        return img, number_label\n",
    "\n"
   ]
  },
  {
   "cell_type": "markdown",
   "id": "d7185aa9",
   "metadata": {},
   "source": [
    "### Setup the network\n",
    "We will setup our network here. In our case, we will use ResNet18 and ResNet50. "
   ]
  },
  {
   "cell_type": "code",
   "execution_count": 5,
   "id": "4b0ef2e5",
   "metadata": {},
   "outputs": [],
   "source": [
    "def resnest18_model(num_classes, pretrained = True, frozen_feature = False):\n",
    "    model = resnet18(pretrained = pretrained)\n",
    "    \n",
    "    if frozen_feature:\n",
    "        for param in model.parameters():\n",
    "            param.requires_grad = False\n",
    "    \n",
    "    fc_in_feature = model.fc.in_features\n",
    "    #model.fc = nn.Sequential(nn.Linear(fc_in_feature, num_classes))\n",
    "    model.fc = nn.Sequential(nn.Linear(fc_in_feature, 32),\n",
    "    nn.ReLU(),\n",
    "    nn.Linear(32, 1),\n",
    "    nn.Sigmoid())\n",
    "\n",
    "    return model\n",
    "\n",
    "def resnest50_model(num_classes, pretrained = True, frozen_feature = False):\n",
    "    model = resnet50(pretrained = pretrained)\n",
    "    \n",
    "    if frozen_feature:\n",
    "        for param in model.parameters():\n",
    "            param.requires_grad = False\n",
    "    \n",
    "    fc_in_feature = model.fc.in_features\n",
    "    #model.fc = nn.Sequential(nn.Linear(fc_in_feature, num_classes))\n",
    "    model.fc = nn.Sequential(nn.Linear(fc_in_feature, 32),\n",
    "    nn.ReLU(),\n",
    "    nn.Linear(32, 1),\n",
    "    nn.Sigmoid())\n",
    "\n",
    "    return model"
   ]
  },
  {
   "cell_type": "markdown",
   "id": "ace5a601",
   "metadata": {},
   "source": [
    "### CPU or GPU\n",
    "we are using pytorch, and we can decide runing this program on cpu or gpu. "
   ]
  },
  {
   "cell_type": "code",
   "execution_count": 6,
   "id": "0f554eba",
   "metadata": {},
   "outputs": [
    {
     "name": "stdout",
     "output_type": "stream",
     "text": [
      "cuda\n"
     ]
    }
   ],
   "source": [
    "def get_device():\n",
    "    return 'cuda' if torch.cuda.is_available() else 'cpu'\n",
    "\n",
    "device = get_device()\n",
    "print(device)"
   ]
  },
  {
   "cell_type": "markdown",
   "id": "63957d42",
   "metadata": {},
   "source": [
    "### Training \n",
    "now, we will train the model, here is the training and validation function"
   ]
  },
  {
   "cell_type": "code",
   "execution_count": 7,
   "id": "00c08d70",
   "metadata": {},
   "outputs": [],
   "source": [
    "def train(model, train_loader, epochs, loss_func, optimizer, scheduler = None):\n",
    "    best_loss = 100\n",
    "    for i in range(epochs):\n",
    "        train_losses = []\n",
    "        \n",
    "        model.train()\n",
    "        print(f'')\n",
    "        for img, label in tqdm(train_loader):\n",
    "            img = img.to(device)\n",
    "            label = label.to(device).to(torch.float32)\n",
    "            \n",
    "            pred = model(img).ravel().to(torch.float32)\n",
    "            loss = loss_func(pred, label)\n",
    "            optimizer.zero_grad()\n",
    "            loss.backward()\n",
    "            optimizer.step()\n",
    "            train_losses.append(loss.item())\n",
    "            \n",
    "        if scheduler != None:\n",
    "            scheduler.step()\n",
    "        loss = np.sum(train_losses) / len(train_losses)\n",
    "        print(f'epochs {i+1} - loss {loss} ')\n",
    "        \n",
    "        if loss < best_loss:\n",
    "            torch.save(model.state_dict(), f'./model_auto_save.pth')\n",
    "            best_loss = loss\n",
    "    \n",
    "def train_val(train_loader, valid_loader = None):\n",
    "    model = resnest18_model(2)\n",
    "    model = model.to(device)\n",
    "    \n",
    "    optimizer = torch.optim.AdamW(model.parameters(), lr=learning_rate, weight_decay= weight_decay)\n",
    "    scheduler = torch.optim.lr_scheduler.CosineAnnealingLR(optimizer,T_max=10)#T_max = 10\n",
    "    \n",
    "    train(model, train_loader, epochs, loss_func, optimizer, scheduler)\n",
    "    \n",
    "    torch.save(model.state_dict(), f'./model_resnet18.pth')\n",
    "    print('--finish saving!--')\n",
    "    \n",
    "    model.eval()\n",
    "    metric_valid = d2l.Accumulator(3)\n",
    "    with torch.no_grad():\n",
    "        for img, label in tqdm(valid_loader):\n",
    "            img = img.to(device)\n",
    "            label = label.to(device)\n",
    "            \n",
    "            pred = model(img)\n",
    "            loss = loss_func(pred, label)\n",
    "            acc = (pred.argmax(dim=-1) == label.to(device)).float().mean()\n",
    "            metric_valid.add(loss * img.shape[0], d2l.accuracy(pred, label), img.shape[0])\n",
    "            \n",
    "    test_ls, test_acc   = metric_valid[0]/metric_valid[2], metric_valid[1]/metric_valid[2]\n",
    "    print(f'validtion loss {test_ls:.6f}, acc {test_acc:.6f}')\n",
    "    \n",
    "def train_test(train_loader, test_loader, transform):\n",
    "    model = resnest18_model(2)\n",
    "    model = model.to(device)\n",
    "    \n",
    "    optimizer = torch.optim.AdamW(model.parameters(), lr=learning_rate, weight_decay= weight_decay)\n",
    "    scheduler = torch.optim.lr_scheduler.CosineAnnealingLR(optimizer,T_max=10)#T_max = 10\n",
    "    \n",
    "    train(model, train_loader, epochs, loss_func, optimizer, scheduler)\n",
    "    \n",
    "    torch.save(model.state_dict(), f'./model_resnet18.pth')\n",
    "    print('--finish saving!--')\n",
    "    \n",
    "    test_prediction = []\n",
    "    model.eval()\n",
    "    metric_valid = d2l.Accumulator(3)\n",
    "    with torch.no_grad():\n",
    "        for img_name in test_loader['id']:\n",
    "            path = 'test/' + img_name + '.tif'\n",
    "            img = Image.open(path)\n",
    "            img = transform(img)            \n",
    "            img = img.to(device)\n",
    "            \n",
    "            pred = model(img.unsqueeze(0))\n",
    "            res = 0 if pred < 0.5 else 1\n",
    "            test_prediction.append({'id':img_name, 'label':res})\n",
    "    \n",
    "    test_pd = pd.DataFrame(test_prediction)\n",
    "    test_pd.to_csv('submission.csv',index=False)"
   ]
  },
  {
   "cell_type": "markdown",
   "id": "182edaec",
   "metadata": {},
   "source": [
    "### Train and validation\n",
    "before we train our model, we need to select our hyperparameters and models structure. We can use kfold validation to find which models or hyperparameters are the best."
   ]
  },
  {
   "cell_type": "code",
   "execution_count": 8,
   "id": "c5b32320",
   "metadata": {},
   "outputs": [
    {
     "data": {
      "text/plain": [
       "'\\nfor train_ids,valid_ids in kfold.split(train_dataset):\\n    break\\ntrain_sample = torch.utils.data.SubsetRandomSampler(train_ids)\\nvalid_sample = torch.utils.data.SubsetRandomSampler(valid_ids)\\ntrain_loader = DataLoader(train_dataset, batch_size=32, sampler=train_sample)\\nvalid_loader = DataLoader(train_dataset, batch_size=32, sampler=valid_sample)\\n    \\ntrain_val(train_loader, valid_loader)\\n'"
      ]
     },
     "execution_count": 8,
     "metadata": {},
     "output_type": "execute_result"
    }
   ],
   "source": [
    "epochs = 10\n",
    "batch_size = 32\n",
    "learning_rate = 1e-4\n",
    "weight_decay = 1e-3\n",
    "#loss_func = nn.CrossEntropyLoss()  \n",
    "loss_func = nn.BCELoss()\n",
    "kfold = KFold(n_splits = 5, shuffle = True)\n",
    "\n",
    "train_dataset = my_dataset('train_labels.csv', pre_train_transform, 'train/')\n",
    "\n",
    "for train_ids,valid_ids in kfold.split(train_dataset):\n",
    "    break\n",
    "train_sample = torch.utils.data.SubsetRandomSampler(train_ids)\n",
    "valid_sample = torch.utils.data.SubsetRandomSampler(valid_ids)\n",
    "train_loader = DataLoader(train_dataset, batch_size=32, sampler=train_sample)\n",
    "valid_loader = DataLoader(train_dataset, batch_size=32, sampler=valid_sample)\n",
    "    \n",
    "train_val(train_loader, valid_loader)\n"
   ]
  },
  {
   "cell_type": "markdown",
   "id": "b5df7d7b",
   "metadata": {},
   "source": [
    "### Final training and testing\n",
    "After we choose the model and hyperparameters, we will train our model with all the training dataset, and predict the testing image. And we will store the prediction in 'submission.csv' file \n",
    "\n",
    "In our case we will use resnet18, for it is smaller and easier to train. Our training dataset is large, if we use resnet50, it will take more than one hour to train ten epochs. For efficiency we will use resnet18. "
   ]
  },
  {
   "cell_type": "code",
   "execution_count": 9,
   "id": "7e7b18c2",
   "metadata": {},
   "outputs": [
    {
     "name": "stdout",
     "output_type": "stream",
     "text": [
      "\n"
     ]
    },
    {
     "name": "stderr",
     "output_type": "stream",
     "text": [
      "100%|██████████| 6876/6876 [06:30<00:00, 17.59it/s]\n"
     ]
    },
    {
     "name": "stdout",
     "output_type": "stream",
     "text": [
      "epochs 1 - loss 0.18453521039886828 \n",
      "\n"
     ]
    },
    {
     "name": "stderr",
     "output_type": "stream",
     "text": [
      "100%|██████████| 6876/6876 [06:02<00:00, 18.95it/s]\n"
     ]
    },
    {
     "name": "stdout",
     "output_type": "stream",
     "text": [
      "epochs 2 - loss 0.10056062949973864 \n",
      "\n"
     ]
    },
    {
     "name": "stderr",
     "output_type": "stream",
     "text": [
      "100%|██████████| 6876/6876 [05:31<00:00, 20.75it/s]\n"
     ]
    },
    {
     "name": "stdout",
     "output_type": "stream",
     "text": [
      "epochs 3 - loss 0.05700355861537468 \n",
      "\n"
     ]
    },
    {
     "name": "stderr",
     "output_type": "stream",
     "text": [
      "100%|██████████| 6876/6876 [05:24<00:00, 21.20it/s]\n"
     ]
    },
    {
     "name": "stdout",
     "output_type": "stream",
     "text": [
      "epochs 4 - loss 0.034056218072787754 \n",
      "\n"
     ]
    },
    {
     "name": "stderr",
     "output_type": "stream",
     "text": [
      "100%|██████████| 6876/6876 [05:18<00:00, 21.56it/s]\n"
     ]
    },
    {
     "name": "stdout",
     "output_type": "stream",
     "text": [
      "epochs 5 - loss 0.020203690250739578 \n",
      "\n"
     ]
    },
    {
     "name": "stderr",
     "output_type": "stream",
     "text": [
      "100%|██████████| 6876/6876 [06:04<00:00, 18.89it/s]\n"
     ]
    },
    {
     "name": "stdout",
     "output_type": "stream",
     "text": [
      "epochs 6 - loss 0.011532518366788437 \n",
      "\n"
     ]
    },
    {
     "name": "stderr",
     "output_type": "stream",
     "text": [
      "100%|██████████| 6876/6876 [06:39<00:00, 17.21it/s]\n"
     ]
    },
    {
     "name": "stdout",
     "output_type": "stream",
     "text": [
      "epochs 7 - loss 0.006509412476919419 \n",
      "\n"
     ]
    },
    {
     "name": "stderr",
     "output_type": "stream",
     "text": [
      "100%|██████████| 6876/6876 [06:44<00:00, 17.01it/s]\n"
     ]
    },
    {
     "name": "stdout",
     "output_type": "stream",
     "text": [
      "epochs 8 - loss 0.0025827572762777695 \n",
      "\n"
     ]
    },
    {
     "name": "stderr",
     "output_type": "stream",
     "text": [
      "100%|██████████| 6876/6876 [06:16<00:00, 18.27it/s]\n"
     ]
    },
    {
     "name": "stdout",
     "output_type": "stream",
     "text": [
      "epochs 9 - loss 0.0007580532260118858 \n",
      "\n"
     ]
    },
    {
     "name": "stderr",
     "output_type": "stream",
     "text": [
      "100%|██████████| 6876/6876 [06:05<00:00, 18.79it/s]\n"
     ]
    },
    {
     "name": "stdout",
     "output_type": "stream",
     "text": [
      "epochs 10 - loss 0.0001783413139660684 \n",
      "--finish saving!--\n"
     ]
    }
   ],
   "source": [
    "train_data = DataLoader(train_dataset, batch_size=32)\n",
    "test_csv = pd.read_csv('sample_submission.csv')\n",
    "train_test(train_data, test_csv, pre_train_transform)"
   ]
  }
 ],
 "metadata": {
  "kernelspec": {
   "display_name": "Python 3 (ipykernel)",
   "language": "python",
   "name": "python3"
  },
  "language_info": {
   "codemirror_mode": {
    "name": "ipython",
    "version": 3
   },
   "file_extension": ".py",
   "mimetype": "text/x-python",
   "name": "python",
   "nbconvert_exporter": "python",
   "pygments_lexer": "ipython3",
   "version": "3.8.13"
  }
 },
 "nbformat": 4,
 "nbformat_minor": 5
}
